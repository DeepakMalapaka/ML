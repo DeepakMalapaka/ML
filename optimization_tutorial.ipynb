{
  "cells": [
    {
      "cell_type": "code",
      "execution_count": 2,
      "metadata": {
        "id": "5TeK73qLAWXH"
      },
      "outputs": [],
      "source": [
        "# For tips on running notebooks in Google Colab, see\n",
        "# https://pytorch.org/tutorials/beginner/colab\n",
        "%matplotlib inline"
      ]
    },
    {
      "cell_type": "markdown",
      "metadata": {
        "id": "KytDmIgNAWXM"
      },
      "source": [
        "[Learn the Basics](intro.html) \\|\\|\n",
        "[Quickstart](quickstart_tutorial.html) \\|\\|\n",
        "[Tensors](tensorqs_tutorial.html) \\|\\| [Datasets &\n",
        "DataLoaders](data_tutorial.html) \\|\\|\n",
        "[Transforms](transforms_tutorial.html) \\|\\| [Build\n",
        "Model](buildmodel_tutorial.html) \\|\\|\n",
        "[Autograd](autogradqs_tutorial.html) \\|\\| **Optimization** \\|\\| [Save &\n",
        "Load Model](saveloadrun_tutorial.html)\n",
        "\n",
        "Optimizing Model Parameters\n",
        "===========================\n",
        "\n",
        "Now that we have a model and data it\\'s time to train, validate and test\n",
        "our model by optimizing its parameters on our data. Training a model is\n",
        "an iterative process; in each iteration the model makes a guess about\n",
        "the output, calculates the error in its guess (*loss*), collects the\n",
        "derivatives of the error with respect to its parameters (as we saw in\n",
        "the [previous section](autograd_tutorial.html)), and **optimizes** these\n",
        "parameters using gradient descent. For a more detailed walkthrough of\n",
        "this process, check out this video on [backpropagation from\n",
        "3Blue1Brown](https://www.youtube.com/watch?v=tIeHLnjs5U8).\n",
        "\n",
        "Prerequisite Code\n",
        "-----------------\n",
        "\n",
        "We load the code from the previous sections on [Datasets &\n",
        "DataLoaders](data_tutorial.html) and [Build\n",
        "Model](buildmodel_tutorial.html).\n"
      ]
    },
    {
      "cell_type": "code",
      "execution_count": 1,
      "metadata": {
        "id": "Z5xYHPQ_AWXO",
        "outputId": "69551a5f-bb1a-443b-dfea-83f82ab88623",
        "colab": {
          "base_uri": "https://localhost:8080/"
        }
      },
      "outputs": [
        {
          "output_type": "stream",
          "name": "stderr",
          "text": [
            "100%|██████████| 26.4M/26.4M [00:01<00:00, 14.0MB/s]\n",
            "100%|██████████| 29.5k/29.5k [00:00<00:00, 209kB/s]\n",
            "100%|██████████| 4.42M/4.42M [00:01<00:00, 3.88MB/s]\n",
            "100%|██████████| 5.15k/5.15k [00:00<00:00, 24.0MB/s]\n"
          ]
        }
      ],
      "source": [
        "import torch\n",
        "from torch import nn\n",
        "from torch.utils.data import DataLoader\n",
        "from torchvision import datasets\n",
        "from torchvision.transforms import ToTensor\n",
        "\n",
        "training_data = datasets.FashionMNIST(\n",
        "    root=\"data\",\n",
        "    train=True,\n",
        "    download=True,\n",
        "    transform=ToTensor()\n",
        ")\n",
        "\n",
        "test_data = datasets.FashionMNIST(\n",
        "    root=\"data\",\n",
        "    train=False,\n",
        "    download=True,\n",
        "    transform=ToTensor()\n",
        ")\n",
        "\n",
        "train_dataloader = DataLoader(training_data, batch_size=64)\n",
        "test_dataloader = DataLoader(test_data, batch_size=64)\n",
        "\n",
        "class NeuralNetwork(nn.Module):\n",
        "    def __init__(self):\n",
        "        super().__init__()\n",
        "        self.flatten = nn.Flatten()\n",
        "        self.linear_relu_stack = nn.Sequential(\n",
        "            nn.Linear(28*28, 512),\n",
        "            nn.ReLU(),\n",
        "            nn.Linear(512, 512),\n",
        "            nn.ReLU(),\n",
        "            nn.Linear(512, 10),\n",
        "        )\n",
        "\n",
        "    def forward(self, x):\n",
        "        x = self.flatten(x)\n",
        "        logits = self.linear_relu_stack(x)\n",
        "        return logits\n",
        "\n",
        "model = NeuralNetwork()"
      ]
    },
    {
      "cell_type": "markdown",
      "metadata": {
        "id": "AE-9P1FYAWXP"
      },
      "source": [
        "Hyperparameters\n",
        "===============\n",
        "\n",
        "Hyperparameters are adjustable parameters that let you control the model\n",
        "optimization process. Different hyperparameter values can impact model\n",
        "training and convergence rates ([read\n",
        "more](https://pytorch.org/tutorials/beginner/hyperparameter_tuning_tutorial.html)\n",
        "about hyperparameter tuning)\n",
        "\n",
        "We define the following hyperparameters for training:\n",
        "\n",
        ":   -   **Number of Epochs** - the number of times to iterate over the\n",
        "        dataset\n",
        "    -   **Batch Size** - the number of data samples propagated through\n",
        "        the network before the parameters are updated\n",
        "    -   **Learning Rate** - how much to update models parameters at each\n",
        "        batch/epoch. Smaller values yield slow learning speed, while\n",
        "        large values may result in unpredictable behavior during\n",
        "        training.\n"
      ]
    },
    {
      "cell_type": "code",
      "execution_count": 3,
      "metadata": {
        "id": "XZnK6C29AWXP"
      },
      "outputs": [],
      "source": [
        "learning_rate = 1e-2\n",
        "batch_size = 256\n",
        "epochs = 10"
      ]
    },
    {
      "cell_type": "markdown",
      "metadata": {
        "id": "JH0bgMQ8AWXQ"
      },
      "source": [
        "Optimization Loop\n",
        "=================\n",
        "\n",
        "Once we set our hyperparameters, we can then train and optimize our\n",
        "model with an optimization loop. Each iteration of the optimization loop\n",
        "is called an **epoch**.\n",
        "\n",
        "Each epoch consists of two main parts:\n",
        "\n",
        ":   -   **The Train Loop** - iterate over the training dataset and try\n",
        "        to converge to optimal parameters.\n",
        "    -   **The Validation/Test Loop** - iterate over the test dataset to\n",
        "        check if model performance is improving.\n",
        "\n",
        "Let\\'s briefly familiarize ourselves with some of the concepts used in\n",
        "the training loop. Jump ahead to see the\n",
        "`full-impl-label`{.interpreted-text role=\"ref\"} of the optimization\n",
        "loop.\n",
        "\n",
        "Loss Function\n",
        "-------------\n",
        "\n",
        "When presented with some training data, our untrained network is likely\n",
        "not to give the correct answer. **Loss function** measures the degree of\n",
        "dissimilarity of obtained result to the target value, and it is the loss\n",
        "function that we want to minimize during training. To calculate the loss\n",
        "we make a prediction using the inputs of our given data sample and\n",
        "compare it against the true data label value.\n",
        "\n",
        "Common loss functions include\n",
        "[nn.MSELoss](https://pytorch.org/docs/stable/generated/torch.nn.MSELoss.html#torch.nn.MSELoss)\n",
        "(Mean Square Error) for regression tasks, and\n",
        "[nn.NLLLoss](https://pytorch.org/docs/stable/generated/torch.nn.NLLLoss.html#torch.nn.NLLLoss)\n",
        "(Negative Log Likelihood) for classification.\n",
        "[nn.CrossEntropyLoss](https://pytorch.org/docs/stable/generated/torch.nn.CrossEntropyLoss.html#torch.nn.CrossEntropyLoss)\n",
        "combines `nn.LogSoftmax` and `nn.NLLLoss`.\n",
        "\n",
        "We pass our model\\'s output logits to `nn.CrossEntropyLoss`, which will\n",
        "normalize the logits and compute the prediction error.\n"
      ]
    },
    {
      "cell_type": "code",
      "execution_count": 4,
      "metadata": {
        "id": "DumAN_GYAWXQ"
      },
      "outputs": [],
      "source": [
        "# Initialize the loss function\n",
        "loss_fn = nn.CrossEntropyLoss()"
      ]
    },
    {
      "cell_type": "markdown",
      "metadata": {
        "id": "PCHJHUB2AWXR"
      },
      "source": [
        "Optimizer\n",
        "=========\n",
        "\n",
        "Optimization is the process of adjusting model parameters to reduce\n",
        "model error in each training step. **Optimization algorithms** define\n",
        "how this process is performed (in this example we use Stochastic\n",
        "Gradient Descent). All optimization logic is encapsulated in the\n",
        "`optimizer` object. Here, we use the SGD optimizer; additionally, there\n",
        "are many [different\n",
        "optimizers](https://pytorch.org/docs/stable/optim.html) available in\n",
        "PyTorch such as ADAM and RMSProp, that work better for different kinds\n",
        "of models and data.\n",
        "\n",
        "We initialize the optimizer by registering the model\\'s parameters that\n",
        "need to be trained, and passing in the learning rate hyperparameter.\n"
      ]
    },
    {
      "cell_type": "code",
      "execution_count": 5,
      "metadata": {
        "id": "LZCFNovXAWXR"
      },
      "outputs": [],
      "source": [
        "optimizer = torch.optim.SGD(model.parameters(), lr=learning_rate)"
      ]
    },
    {
      "cell_type": "markdown",
      "metadata": {
        "id": "BKEKb0UCAWXS"
      },
      "source": [
        "Inside the training loop, optimization happens in three steps:\n",
        "\n",
        ":   -   Call `optimizer.zero_grad()` to reset the gradients of model\n",
        "        parameters. Gradients by default add up; to prevent\n",
        "        double-counting, we explicitly zero them at each iteration.\n",
        "    -   Backpropagate the prediction loss with a call to\n",
        "        `loss.backward()`. PyTorch deposits the gradients of the loss\n",
        "        w.r.t. each parameter.\n",
        "    -   Once we have our gradients, we call `optimizer.step()` to adjust\n",
        "        the parameters by the gradients collected in the backward pass.\n"
      ]
    },
    {
      "cell_type": "markdown",
      "metadata": {
        "id": "Cz7u2bvyAWXS"
      },
      "source": [
        "Full Implementation {#full-impl-label}\n",
        "===================\n",
        "\n",
        "We define `train_loop` that loops over our optimization code, and\n",
        "`test_loop` that evaluates the model\\'s performance against our test\n",
        "data.\n"
      ]
    },
    {
      "cell_type": "code",
      "execution_count": 6,
      "metadata": {
        "id": "o18yD92mAWXS"
      },
      "outputs": [],
      "source": [
        "def train_loop(dataloader, model, loss_fn, optimizer):\n",
        "    size = len(dataloader.dataset)\n",
        "    # Set the model to training mode - important for batch normalization and dropout layers\n",
        "    # Unnecessary in this situation but added for best practices\n",
        "    model.train()\n",
        "    for batch, (X, y) in enumerate(dataloader):\n",
        "        # Compute prediction and loss\n",
        "        pred = model(X)\n",
        "        loss = loss_fn(pred, y)\n",
        "\n",
        "        # Backpropagation\n",
        "        loss.backward()\n",
        "        optimizer.step()\n",
        "        optimizer.zero_grad()\n",
        "\n",
        "        if batch % 100 == 0:\n",
        "            loss, current = loss.item(), batch * batch_size + len(X)\n",
        "            print(f\"loss: {loss:>7f}  [{current:>5d}/{size:>5d}]\")\n",
        "\n",
        "\n",
        "def test_loop(dataloader, model, loss_fn):\n",
        "    # Set the model to evaluation mode - important for batch normalization and dropout layers\n",
        "    # Unnecessary in this situation but added for best practices\n",
        "    model.eval()\n",
        "    size = len(dataloader.dataset)\n",
        "    num_batches = len(dataloader)\n",
        "    test_loss, correct = 0, 0\n",
        "\n",
        "    # Evaluating the model with torch.no_grad() ensures that no gradients are computed during test mode\n",
        "    # also serves to reduce unnecessary gradient computations and memory usage for tensors with requires_grad=True\n",
        "    with torch.no_grad():\n",
        "        for X, y in dataloader:\n",
        "            pred = model(X)\n",
        "            test_loss += loss_fn(pred, y).item()\n",
        "            correct += (pred.argmax(1) == y).type(torch.float).sum().item()\n",
        "\n",
        "    test_loss /= num_batches\n",
        "    correct /= size\n",
        "    print(f\"Test Error: \\n Accuracy: {(100*correct):>0.1f}%, Avg loss: {test_loss:>8f} \\n\")"
      ]
    },
    {
      "cell_type": "markdown",
      "metadata": {
        "id": "mZv5xzETAWXT"
      },
      "source": [
        "We initialize the loss function and optimizer, and pass it to\n",
        "`train_loop` and `test_loop`. Feel free to increase the number of epochs\n",
        "to track the model\\'s improving performance.\n"
      ]
    },
    {
      "cell_type": "code",
      "execution_count": 7,
      "metadata": {
        "id": "LU6117RgAWXT",
        "outputId": "c75c93d5-c523-4935-d396-74267121546a",
        "colab": {
          "base_uri": "https://localhost:8080/"
        }
      },
      "outputs": [
        {
          "output_type": "stream",
          "name": "stdout",
          "text": [
            "Epoch 1\n",
            "-------------------------------\n",
            "loss: 2.305733  [   64/60000]\n",
            "loss: 2.183431  [25664/60000]\n",
            "loss: 1.855131  [51264/60000]\n",
            "loss: 1.540726  [76864/60000]\n",
            "loss: 1.152467  [102464/60000]\n",
            "loss: 1.046982  [128064/60000]\n",
            "loss: 1.002041  [153664/60000]\n",
            "loss: 0.865283  [179264/60000]\n",
            "loss: 0.881067  [204864/60000]\n",
            "loss: 0.809639  [230464/60000]\n",
            "Test Error: \n",
            " Accuracy: 71.3%, Avg loss: 0.788583 \n",
            "\n",
            "Epoch 2\n",
            "-------------------------------\n",
            "loss: 0.795197  [   64/60000]\n",
            "loss: 0.839778  [25664/60000]\n",
            "loss: 0.580173  [51264/60000]\n",
            "loss: 0.776178  [76864/60000]\n",
            "loss: 0.661661  [102464/60000]\n",
            "loss: 0.636707  [128064/60000]\n",
            "loss: 0.709646  [153664/60000]\n",
            "loss: 0.678496  [179264/60000]\n",
            "loss: 0.717965  [204864/60000]\n",
            "loss: 0.643264  [230464/60000]\n",
            "Test Error: \n",
            " Accuracy: 78.0%, Avg loss: 0.632571 \n",
            "\n",
            "Epoch 3\n",
            "-------------------------------\n",
            "loss: 0.570492  [   64/60000]\n",
            "loss: 0.651910  [25664/60000]\n",
            "loss: 0.436488  [51264/60000]\n",
            "loss: 0.664225  [76864/60000]\n",
            "loss: 0.585846  [102464/60000]\n",
            "loss: 0.562633  [128064/60000]\n",
            "loss: 0.592326  [153664/60000]\n",
            "loss: 0.633096  [179264/60000]\n",
            "loss: 0.682629  [204864/60000]\n",
            "loss: 0.552964  [230464/60000]\n",
            "Test Error: \n",
            " Accuracy: 80.3%, Avg loss: 0.568472 \n",
            "\n",
            "Epoch 4\n",
            "-------------------------------\n",
            "loss: 0.476357  [   64/60000]\n",
            "loss: 0.566300  [25664/60000]\n",
            "loss: 0.376946  [51264/60000]\n",
            "loss: 0.603405  [76864/60000]\n",
            "loss: 0.536307  [102464/60000]\n",
            "loss: 0.522045  [128064/60000]\n",
            "loss: 0.537769  [153664/60000]\n",
            "loss: 0.629697  [179264/60000]\n",
            "loss: 0.662579  [204864/60000]\n",
            "loss: 0.488885  [230464/60000]\n",
            "Test Error: \n",
            " Accuracy: 80.9%, Avg loss: 0.535826 \n",
            "\n",
            "Epoch 5\n",
            "-------------------------------\n",
            "loss: 0.418328  [   64/60000]\n",
            "loss: 0.520504  [25664/60000]\n",
            "loss: 0.343982  [51264/60000]\n",
            "loss: 0.561695  [76864/60000]\n",
            "loss: 0.493420  [102464/60000]\n",
            "loss: 0.491721  [128064/60000]\n",
            "loss: 0.507223  [153664/60000]\n",
            "loss: 0.627094  [179264/60000]\n",
            "loss: 0.639539  [204864/60000]\n",
            "loss: 0.450171  [230464/60000]\n",
            "Test Error: \n",
            " Accuracy: 81.4%, Avg loss: 0.516061 \n",
            "\n",
            "Epoch 6\n",
            "-------------------------------\n",
            "loss: 0.377464  [   64/60000]\n",
            "loss: 0.493565  [25664/60000]\n",
            "loss: 0.321693  [51264/60000]\n",
            "loss: 0.531869  [76864/60000]\n",
            "loss: 0.462916  [102464/60000]\n",
            "loss: 0.470325  [128064/60000]\n",
            "loss: 0.484994  [153664/60000]\n",
            "loss: 0.616511  [179264/60000]\n",
            "loss: 0.617507  [204864/60000]\n",
            "loss: 0.429560  [230464/60000]\n",
            "Test Error: \n",
            " Accuracy: 81.9%, Avg loss: 0.502239 \n",
            "\n",
            "Epoch 7\n",
            "-------------------------------\n",
            "loss: 0.346280  [   64/60000]\n",
            "loss: 0.474818  [25664/60000]\n",
            "loss: 0.304131  [51264/60000]\n",
            "loss: 0.510730  [76864/60000]\n",
            "loss: 0.440947  [102464/60000]\n",
            "loss: 0.455460  [128064/60000]\n",
            "loss: 0.467805  [153664/60000]\n",
            "loss: 0.602588  [179264/60000]\n",
            "loss: 0.598534  [204864/60000]\n",
            "loss: 0.418381  [230464/60000]\n",
            "Test Error: \n",
            " Accuracy: 82.2%, Avg loss: 0.491172 \n",
            "\n",
            "Epoch 8\n",
            "-------------------------------\n",
            "loss: 0.322214  [   64/60000]\n",
            "loss: 0.459205  [25664/60000]\n",
            "loss: 0.289467  [51264/60000]\n",
            "loss: 0.494574  [76864/60000]\n",
            "loss: 0.422776  [102464/60000]\n",
            "loss: 0.444638  [128064/60000]\n",
            "loss: 0.452489  [153664/60000]\n",
            "loss: 0.588749  [179264/60000]\n",
            "loss: 0.582755  [204864/60000]\n",
            "loss: 0.412124  [230464/60000]\n",
            "Test Error: \n",
            " Accuracy: 82.8%, Avg loss: 0.481275 \n",
            "\n",
            "Epoch 9\n",
            "-------------------------------\n",
            "loss: 0.304410  [   64/60000]\n",
            "loss: 0.444830  [25664/60000]\n",
            "loss: 0.277959  [51264/60000]\n",
            "loss: 0.481680  [76864/60000]\n",
            "loss: 0.406169  [102464/60000]\n",
            "loss: 0.435625  [128064/60000]\n",
            "loss: 0.438278  [153664/60000]\n",
            "loss: 0.576190  [179264/60000]\n",
            "loss: 0.568914  [204864/60000]\n",
            "loss: 0.407275  [230464/60000]\n",
            "Test Error: \n",
            " Accuracy: 83.1%, Avg loss: 0.472582 \n",
            "\n",
            "Epoch 10\n",
            "-------------------------------\n",
            "loss: 0.291239  [   64/60000]\n",
            "loss: 0.431670  [25664/60000]\n",
            "loss: 0.268792  [51264/60000]\n",
            "loss: 0.471836  [76864/60000]\n",
            "loss: 0.391030  [102464/60000]\n",
            "loss: 0.427708  [128064/60000]\n",
            "loss: 0.427384  [153664/60000]\n",
            "loss: 0.564325  [179264/60000]\n",
            "loss: 0.555912  [204864/60000]\n",
            "loss: 0.404064  [230464/60000]\n",
            "Test Error: \n",
            " Accuracy: 83.3%, Avg loss: 0.464243 \n",
            "\n",
            "Done!\n"
          ]
        }
      ],
      "source": [
        "loss_fn = nn.CrossEntropyLoss()\n",
        "optimizer = torch.optim.SGD(model.parameters(), lr=learning_rate)\n",
        "\n",
        "epochs = 10\n",
        "for t in range(epochs):\n",
        "    print(f\"Epoch {t+1}\\n-------------------------------\")\n",
        "    train_loop(train_dataloader, model, loss_fn, optimizer)\n",
        "    test_loop(test_dataloader, model, loss_fn)\n",
        "print(\"Done!\")"
      ]
    },
    {
      "cell_type": "markdown",
      "metadata": {
        "id": "xrNFTCVFAWXT"
      },
      "source": [
        "Further Reading\n",
        "===============\n",
        "\n",
        "-   [Loss\n",
        "    Functions](https://pytorch.org/docs/stable/nn.html#loss-functions)\n",
        "-   [torch.optim](https://pytorch.org/docs/stable/optim.html)\n",
        "-   [Warmstart Training a\n",
        "    Model](https://pytorch.org/tutorials/recipes/recipes/warmstarting_model_using_parameters_from_a_different_model.html)\n"
      ]
    }
  ],
  "metadata": {
    "kernelspec": {
      "display_name": "Python 3",
      "name": "python3"
    },
    "language_info": {
      "codemirror_mode": {
        "name": "ipython",
        "version": 3
      },
      "file_extension": ".py",
      "mimetype": "text/x-python",
      "name": "python",
      "nbconvert_exporter": "python",
      "pygments_lexer": "ipython3",
      "version": "3.10.12"
    },
    "colab": {
      "provenance": [],
      "gpuType": "T4"
    },
    "accelerator": "GPU"
  },
  "nbformat": 4,
  "nbformat_minor": 0
}