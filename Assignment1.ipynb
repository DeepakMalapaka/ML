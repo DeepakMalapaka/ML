{
  "nbformat": 4,
  "nbformat_minor": 0,
  "metadata": {
    "colab": {
      "provenance": [],
      "toc_visible": true,
      "authorship_tag": "ABX9TyPVzshb6vFxeQzIwtal9VLg",
      "include_colab_link": true
    },
    "kernelspec": {
      "name": "python3",
      "display_name": "Python 3"
    },
    "language_info": {
      "name": "python"
    }
  },
  "cells": [
    {
      "cell_type": "markdown",
      "metadata": {
        "id": "view-in-github",
        "colab_type": "text"
      },
      "source": [
        "<a href=\"https://colab.research.google.com/github/DeepakMalapaka/ML/blob/main/Assignment1.ipynb\" target=\"_parent\"><img src=\"https://colab.research.google.com/assets/colab-badge.svg\" alt=\"Open In Colab\"/></a>"
      ]
    },
    {
      "cell_type": "markdown",
      "source": [
        "# Assignment 1"
      ],
      "metadata": {
        "id": "LRmZlCE7XKHw"
      }
    },
    {
      "cell_type": "code",
      "execution_count": 1,
      "metadata": {
        "id": "0h0OBsn6XFFA"
      },
      "outputs": [],
      "source": [
        "import numpy as np"
      ]
    },
    {
      "cell_type": "markdown",
      "source": [
        "1.\tPerform arithmetic operations on NumPy arrays."
      ],
      "metadata": {
        "id": "KpyI8CsIXIuT"
      }
    },
    {
      "cell_type": "code",
      "source": [
        "a=np.array([1,2,3])\n",
        "b=np.array([4,5,6])\n",
        "print(\"Addtion:\",np.add(a,b))\n",
        "print(\"Subtraction:\",np.subtract(a,b))\n",
        "print(\"Multiplication:\",np.multiply(a,b))\n",
        "print(\"Division:\",np.divide(a,b))"
      ],
      "metadata": {
        "colab": {
          "base_uri": "https://localhost:8080/"
        },
        "id": "N003WaR-X3EW",
        "outputId": "45da28dd-7cbf-4132-8d07-9ef7eef42070"
      },
      "execution_count": 2,
      "outputs": [
        {
          "output_type": "stream",
          "name": "stdout",
          "text": [
            "Addtion: [5 7 9]\n",
            "Subtraction: [-3 -3 -3]\n",
            "Multiplication: [ 4 10 18]\n",
            "Division: [0.25 0.4  0.5 ]\n"
          ]
        }
      ]
    },
    {
      "cell_type": "markdown",
      "source": [
        "2.\tWrite a script to compute the mean and standard deviation of a NumPy array."
      ],
      "metadata": {
        "id": "c5v8uJVlYZvw"
      }
    },
    {
      "cell_type": "code",
      "source": [
        "a1=np.array([1,2,3,4,5])\n",
        "print(\"Mean:\",np.mean(a1))\n",
        "print(\"Standard Deviation:\",np.std(a1))"
      ],
      "metadata": {
        "colab": {
          "base_uri": "https://localhost:8080/"
        },
        "id": "zLRT9LqCYh3x",
        "outputId": "b419b25c-f3c6-488a-ddc6-06d20a555878"
      },
      "execution_count": 6,
      "outputs": [
        {
          "output_type": "stream",
          "name": "stdout",
          "text": [
            "Mean: 3.0\n",
            "Standard Deviation: 1.4142135623730951\n"
          ]
        }
      ]
    },
    {
      "cell_type": "markdown",
      "source": [
        "3.\tCreate a NumPy array of integers from 10 to 50 with a step size of 5."
      ],
      "metadata": {
        "id": "0NAvMHHTY9oO"
      }
    },
    {
      "cell_type": "code",
      "source": [
        "a2=np.arange(10,51,5)\n",
        "print(a2)"
      ],
      "metadata": {
        "colab": {
          "base_uri": "https://localhost:8080/"
        },
        "id": "yoCSqZaVZD8k",
        "outputId": "0eebf098-493d-44f8-9e1a-87bb8d00fed9"
      },
      "execution_count": 5,
      "outputs": [
        {
          "output_type": "stream",
          "name": "stdout",
          "text": [
            "[10 15 20 25 30 35 40 45 50]\n"
          ]
        }
      ]
    },
    {
      "cell_type": "markdown",
      "source": [
        "4.\tReshape the array into a 2x4 matrix"
      ],
      "metadata": {
        "id": "l544gkSZZW3R"
      }
    },
    {
      "cell_type": "code",
      "source": [
        "a3=np.array([1,2,3,4,5,6,7,8])\n",
        "a3=a3.reshape(2,4)\n",
        "print(a3)"
      ],
      "metadata": {
        "colab": {
          "base_uri": "https://localhost:8080/"
        },
        "id": "lamSUZDiZbip",
        "outputId": "da859eae-74a7-4de4-a217-f92ac2527946"
      },
      "execution_count": 4,
      "outputs": [
        {
          "output_type": "stream",
          "name": "stdout",
          "text": [
            "[[1 2 3 4]\n",
            " [5 6 7 8]]\n"
          ]
        }
      ]
    },
    {
      "cell_type": "markdown",
      "source": [
        "5.\tGiven the array arr = np.array([[1, 2, 3], [4, 5, 6], [7, 8, 9]]):\n",
        "\n",
        "•\tExtract the sub-matrix containing the last two rows and first two columns.\n",
        "\n",
        "•\tReplace all elements greater than 4 with 0.\n"
      ],
      "metadata": {
        "id": "HIkk3tilZ4cF"
      }
    },
    {
      "cell_type": "code",
      "source": [
        "arr = np.array([[1, 2, 3], [4, 5, 6], [7, 8, 9]])\n",
        "print(arr[1:,:2])\n",
        "arr[arr>4]=0\n",
        "print(arr)\n"
      ],
      "metadata": {
        "colab": {
          "base_uri": "https://localhost:8080/"
        },
        "id": "z5CESHkGZ84e",
        "outputId": "4af2d410-e913-4fc6-e11a-f73c1b3754e8"
      },
      "execution_count": 7,
      "outputs": [
        {
          "output_type": "stream",
          "name": "stdout",
          "text": [
            "[[4 5]\n",
            " [7 8]]\n",
            "[[1 2 3]\n",
            " [4 0 0]\n",
            " [0 0 0]]\n"
          ]
        }
      ]
    },
    {
      "cell_type": "markdown",
      "source": [
        "6.\tCreate two 1D arrays:\n",
        "\n",
        "•\ta = np.array([1, 2, 3])\n",
        "\n",
        "•\tb = np.array([4, 5, 6])\n",
        "\n",
        "•\tPerform element-wise addition, multiplication, and division.\n"
      ],
      "metadata": {
        "id": "pF_n3kO9a1g-"
      }
    },
    {
      "cell_type": "code",
      "source": [
        "a=np.array([1,2,3])\n",
        "b=np.array([4,5,6])\n",
        "print(\"Addition:\",np.add(a,b))\n",
        "print(\"Multiplication:\",np.multiply(a,b))\n",
        "print(\"Division:\",np.divide(a,b))"
      ],
      "metadata": {
        "colab": {
          "base_uri": "https://localhost:8080/"
        },
        "id": "MNo7SDEMbJx6",
        "outputId": "d4061372-94fb-4dc2-a0d0-69490eb8f0a8"
      },
      "execution_count": 8,
      "outputs": [
        {
          "output_type": "stream",
          "name": "stdout",
          "text": [
            "Addition: [5 7 9]\n",
            "Multiplication: [ 4 10 18]\n",
            "Division: [0.25 0.4  0.5 ]\n"
          ]
        }
      ]
    },
    {
      "cell_type": "markdown",
      "source": [
        "7.\tCreate a random NumPy array of size (4, 4). Compute:\n",
        "\n",
        "•\tMean of each column.\n",
        "\n",
        "•\tMaximum value of the entire array.\n",
        "\n",
        "•\tSum of all elements.\n"
      ],
      "metadata": {
        "id": "fJ8MBWFgbR4z"
      }
    },
    {
      "cell_type": "code",
      "source": [
        "a=np.random.randint(10,size=(4,4))\n",
        "print(a)\n",
        "print(\"Mean of each column:\",np.mean(a,axis=0))\n",
        "print(\"Maximum value of the entire array:\",np.max(a))"
      ],
      "metadata": {
        "colab": {
          "base_uri": "https://localhost:8080/"
        },
        "id": "2_sf28ZSbePd",
        "outputId": "bda0ad3d-e896-4fd2-b2a7-e1462028e418"
      },
      "execution_count": 9,
      "outputs": [
        {
          "output_type": "stream",
          "name": "stdout",
          "text": [
            "[[5 4 2 7]\n",
            " [6 3 8 7]\n",
            " [3 9 4 2]\n",
            " [3 3 4 3]]\n",
            "Mean of each column: [4.25 4.75 4.5  4.75]\n",
            "Maximum value of the entire array: 9\n"
          ]
        }
      ]
    },
    {
      "cell_type": "markdown",
      "source": [
        "8.\tGiven the array arr = np.array([1, 2, 3, 4]), add 10 to each element and multiply the result by 2."
      ],
      "metadata": {
        "id": "u4mH5venbrXe"
      }
    },
    {
      "cell_type": "code",
      "source": [
        "arr = np.array([1, 2, 3, 4])\n",
        "arr=arr+10\n",
        "arr=arr*2\n",
        "print(arr)"
      ],
      "metadata": {
        "colab": {
          "base_uri": "https://localhost:8080/"
        },
        "id": "JoRTTyQsbv6G",
        "outputId": "4582f623-b523-478d-841e-59f4090ed7f2"
      },
      "execution_count": 10,
      "outputs": [
        {
          "output_type": "stream",
          "name": "stdout",
          "text": [
            "[22 24 26 28]\n"
          ]
        }
      ]
    },
    {
      "cell_type": "markdown",
      "source": [
        "9.\tPerform advanced slicing and indexing on a 3D array.\n",
        "Create a 3D NumPy array arr of shape (3, 4, 5) with random integers ranging from 1 to 100. Perform the following:\n",
        "\n",
        "•\tExtract the second \"layer\" (i.e., the second 2D array) in the first dimension.\n",
        "\n",
        "• Extract the first two rows and the last three columns from each \"layer.\"\n",
        "\n",
        "•\tReplace all elements divisible by 3 with -1.\n"
      ],
      "metadata": {
        "id": "rxDHUX-ecJGI"
      }
    },
    {
      "cell_type": "code",
      "source": [
        "arr=np.random.randint(1,101,size=(3,4,5))\n",
        "print(arr)\n",
        "print(arr[1])\n",
        "print(arr[0][0:2,-3:])\n",
        "arr[arr%3==0]=-1\n",
        "print(arr)"
      ],
      "metadata": {
        "id": "Fi0MVQl8cK9M"
      },
      "execution_count": null,
      "outputs": []
    },
    {
      "cell_type": "markdown",
      "source": [
        "10.\tWork with broadcasting and advanced operations in NumPy.\n",
        "      Create a NumPy array arr of shape (3, 3) with random integers between        1 and 20. Perform the following:\n",
        "\n",
        "•\tSubtract the mean of each row from its respective elements (row-wise normalization).\n",
        "\n",
        "•\tCreate a new array by squaring all the elements in arr.\n",
        "\n",
        "•\tFind the indices of the top 3 maximum values in the entire array.\n"
      ],
      "metadata": {
        "id": "2nY1SvbZc5jZ"
      }
    },
    {
      "cell_type": "code",
      "source": [],
      "metadata": {
        "id": "cNKiGF5gdAZl"
      },
      "execution_count": null,
      "outputs": []
    }
  ]
}